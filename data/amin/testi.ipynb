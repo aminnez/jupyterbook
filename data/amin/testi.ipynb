{
 "cells": [
  {
   "cell_type": "code",
   "execution_count": 6,
   "id": "1215049d-28b9-4053-b2ca-7ecae4429703",
   "metadata": {},
   "outputs": [
    {
     "name": "stdout",
     "output_type": "stream",
     "text": [
      "100\n",
      "1\n",
      "2\n",
      "3\n",
      "4\n",
      "5\n",
      "6\n",
      "7\n",
      "8\n",
      "9\n"
     ]
    }
   ],
   "source": [
    "System.out.print(10);\n",
    "for (int i=0;i<10;i++) {\n",
    "    System.out.println(i);\n",
    "}"
   ]
  },
  {
   "cell_type": "code",
   "execution_count": null,
   "id": "1d0935ef-fbcd-41d7-9e3d-c84a2f849b88",
   "metadata": {},
   "outputs": [],
   "source": []
  },
  {
   "cell_type": "markdown",
   "id": "bcc0e5f0-b347-4b92-87f8-483e950efa3a",
   "metadata": {},
   "source": [
    "# This is a markdown\n",
    "## This is h2\n",
    "**bold**"
   ]
  },
  {
   "cell_type": "code",
   "execution_count": null,
   "id": "157ef00c-a1eb-497f-929c-110f11c2bcfd",
   "metadata": {},
   "outputs": [],
   "source": []
  }
 ],
 "metadata": {
  "kernelspec": {
   "display_name": "Java",
   "language": "java",
   "name": "java"
  },
  "language_info": {
   "codemirror_mode": "java",
   "file_extension": ".jshell",
   "mimetype": "text/x-java-source",
   "name": "Java",
   "pygments_lexer": "java",
   "version": "11.0.25+9-post-Ubuntu-1ubuntu122.04"
  }
 },
 "nbformat": 4,
 "nbformat_minor": 5
}
